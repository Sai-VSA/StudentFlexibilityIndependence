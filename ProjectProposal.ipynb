{
 "cells": [
  {
   "cell_type": "code",
   "execution_count": 3,
   "id": "5bd43987-41bc-49a1-b009-9c36f3dee35e",
   "metadata": {},
   "outputs": [
    {
     "name": "stderr",
     "output_type": "stream",
     "text": [
      "── \u001b[1mAttaching packages\u001b[22m ─────────────────────────────────────── tidyverse 1.3.0 ──\n",
      "\n",
      "\u001b[32m✔\u001b[39m \u001b[34mggplot2\u001b[39m 3.3.6     \u001b[32m✔\u001b[39m \u001b[34mpurrr  \u001b[39m 0.3.4\n",
      "\u001b[32m✔\u001b[39m \u001b[34mtibble \u001b[39m 3.1.7     \u001b[32m✔\u001b[39m \u001b[34mdplyr  \u001b[39m 1.0.9\n",
      "\u001b[32m✔\u001b[39m \u001b[34mtidyr  \u001b[39m 1.2.0     \u001b[32m✔\u001b[39m \u001b[34mstringr\u001b[39m 1.4.0\n",
      "\u001b[32m✔\u001b[39m \u001b[34mreadr  \u001b[39m 2.1.2     \u001b[32m✔\u001b[39m \u001b[34mforcats\u001b[39m 0.5.1\n",
      "\n",
      "── \u001b[1mConflicts\u001b[22m ────────────────────────────────────────── tidyverse_conflicts() ──\n",
      "\u001b[31m✖\u001b[39m \u001b[34mdplyr\u001b[39m::\u001b[32mfilter()\u001b[39m masks \u001b[34mstats\u001b[39m::filter()\n",
      "\u001b[31m✖\u001b[39m \u001b[34mdplyr\u001b[39m::\u001b[32mlag()\u001b[39m    masks \u001b[34mstats\u001b[39m::lag()\n",
      "\n",
      "\n",
      "Attaching package: ‘testthat’\n",
      "\n",
      "\n",
      "The following object is masked from ‘package:dplyr’:\n",
      "\n",
      "    matches\n",
      "\n",
      "\n",
      "The following object is masked from ‘package:purrr’:\n",
      "\n",
      "    is_null\n",
      "\n",
      "\n",
      "The following object is masked from ‘package:tidyr’:\n",
      "\n",
      "    matches\n",
      "\n",
      "\n"
     ]
    },
    {
     "ename": "ERROR",
     "evalue": "Error: package or namespace load failed for ‘tidymodels’ in loadNamespace(j <- i[[1L]], c(lib.loc, .libPaths()), versionCheck = vI[[j]]):\n namespace ‘lubridate’ 1.7.10 is already loaded, but >= 1.8.0 is required\n",
     "output_type": "error",
     "traceback": [
      "Error: package or namespace load failed for ‘tidymodels’ in loadNamespace(j <- i[[1L]], c(lib.loc, .libPaths()), versionCheck = vI[[j]]):\n namespace ‘lubridate’ 1.7.10 is already loaded, but >= 1.8.0 is required\nTraceback:\n",
      "1. library(tidymodels)",
      "2. tryCatch({\n .     attr(package, \"LibPath\") <- which.lib.loc\n .     ns <- loadNamespace(package, lib.loc)\n .     env <- attachNamespace(ns, pos = pos, deps, exclude, include.only)\n . }, error = function(e) {\n .     P <- if (!is.null(cc <- conditionCall(e))) \n .         paste(\" in\", deparse(cc)[1L])\n .     else \"\"\n .     msg <- gettextf(\"package or namespace load failed for %s%s:\\n %s\", \n .         sQuote(package), P, conditionMessage(e))\n .     if (logical.return) \n .         message(paste(\"Error:\", msg), domain = NA)\n .     else stop(msg, call. = FALSE, domain = NA)\n . })",
      "3. tryCatchList(expr, classes, parentenv, handlers)",
      "4. tryCatchOne(expr, names, parentenv, handlers[[1L]])",
      "5. value[[3L]](cond)",
      "6. stop(msg, call. = FALSE, domain = NA)"
     ]
    }
   ],
   "source": [
    "# load packages\n",
    "library(tidyverse)\n",
    "library(testthat)\n",
    "library(digest)\n",
    "library(repr)\n",
    "library(tidymodels)\n",
    "library(GGally)\n",
    "library(ISLR)\n",
    "options(repr.matrix.max.rows = 6)\n",
    "source(\"tests.R\")\n",
    "source(\"cleanup.R\")\n"
   ]
  },
  {
   "cell_type": "code",
   "execution_count": 19,
   "id": "4ffff757-bcf3-4d70-ac25-c3aec4e30c25",
   "metadata": {},
   "outputs": [
    {
     "name": "stderr",
     "output_type": "stream",
     "text": [
      "\u001b[1mRows: \u001b[22m\u001b[34m1205\u001b[39m \u001b[1mColumns: \u001b[22m\u001b[34m14\u001b[39m\n",
      "\u001b[36m──\u001b[39m \u001b[1mColumn specification\u001b[22m \u001b[36m────────────────────────────────────────────────────────\u001b[39m\n",
      "\u001b[1mDelimiter:\u001b[22m \",\"\n",
      "\u001b[31mchr\u001b[39m (14): Gender, Age, Education Level, Institution Type, IT Student, Locati...\n",
      "\n",
      "\u001b[36mℹ\u001b[39m Use `spec()` to retrieve the full column specification for this data.\n",
      "\u001b[36mℹ\u001b[39m Specify the column types or set `show_col_types = FALSE` to quiet this message.\n"
     ]
    },
    {
     "data": {
      "text/html": [
       "<table class=\"dataframe\">\n",
       "<caption>A tibble: 6 × 14</caption>\n",
       "<thead>\n",
       "\t<tr><th scope=col>Gender</th><th scope=col>Age</th><th scope=col>Education Level</th><th scope=col>Institution Type</th><th scope=col>IT Student</th><th scope=col>Location</th><th scope=col>Load-shedding</th><th scope=col>Financial Condition</th><th scope=col>Internet Type</th><th scope=col>Network Type</th><th scope=col>Class Duration</th><th scope=col>Self Lms</th><th scope=col>Device</th><th scope=col>Adaptivity Level</th></tr>\n",
       "\t<tr><th scope=col>&lt;chr&gt;</th><th scope=col>&lt;chr&gt;</th><th scope=col>&lt;chr&gt;</th><th scope=col>&lt;chr&gt;</th><th scope=col>&lt;chr&gt;</th><th scope=col>&lt;chr&gt;</th><th scope=col>&lt;chr&gt;</th><th scope=col>&lt;chr&gt;</th><th scope=col>&lt;chr&gt;</th><th scope=col>&lt;chr&gt;</th><th scope=col>&lt;chr&gt;</th><th scope=col>&lt;chr&gt;</th><th scope=col>&lt;chr&gt;</th><th scope=col>&lt;chr&gt;</th></tr>\n",
       "</thead>\n",
       "<tbody>\n",
       "\t<tr><td>Boy </td><td>21-25</td><td>University</td><td>Non Government</td><td>No</td><td>Yes</td><td>Low </td><td>Mid </td><td>Wifi       </td><td>4G</td><td>3-6</td><td>No </td><td>Tab   </td><td>Moderate</td></tr>\n",
       "\t<tr><td>Girl</td><td>21-25</td><td>University</td><td>Non Government</td><td>No</td><td>Yes</td><td>High</td><td>Mid </td><td>Mobile Data</td><td>4G</td><td>1-3</td><td>Yes</td><td>Mobile</td><td>Moderate</td></tr>\n",
       "\t<tr><td>Girl</td><td>16-20</td><td>College   </td><td>Government    </td><td>No</td><td>Yes</td><td>Low </td><td>Mid </td><td>Wifi       </td><td>4G</td><td>1-3</td><td>No </td><td>Mobile</td><td>Moderate</td></tr>\n",
       "\t<tr><td>Girl</td><td>11-15</td><td>School    </td><td>Non Government</td><td>No</td><td>Yes</td><td>Low </td><td>Mid </td><td>Mobile Data</td><td>4G</td><td>1-3</td><td>No </td><td>Mobile</td><td>Moderate</td></tr>\n",
       "\t<tr><td>Girl</td><td>16-20</td><td>School    </td><td>Non Government</td><td>No</td><td>Yes</td><td>Low </td><td>Poor</td><td>Mobile Data</td><td>3G</td><td>0  </td><td>No </td><td>Mobile</td><td>Low     </td></tr>\n",
       "\t<tr><td>Boy </td><td>11-15</td><td>School    </td><td>Non Government</td><td>No</td><td>Yes</td><td>Low </td><td>Poor</td><td>Mobile Data</td><td>3G</td><td>1-3</td><td>No </td><td>Mobile</td><td>Low     </td></tr>\n",
       "</tbody>\n",
       "</table>\n"
      ],
      "text/latex": [
       "A tibble: 6 × 14\n",
       "\\begin{tabular}{llllllllllllll}\n",
       " Gender & Age & Education Level & Institution Type & IT Student & Location & Load-shedding & Financial Condition & Internet Type & Network Type & Class Duration & Self Lms & Device & Adaptivity Level\\\\\n",
       " <chr> & <chr> & <chr> & <chr> & <chr> & <chr> & <chr> & <chr> & <chr> & <chr> & <chr> & <chr> & <chr> & <chr>\\\\\n",
       "\\hline\n",
       "\t Boy  & 21-25 & University & Non Government & No & Yes & Low  & Mid  & Wifi        & 4G & 3-6 & No  & Tab    & Moderate\\\\\n",
       "\t Girl & 21-25 & University & Non Government & No & Yes & High & Mid  & Mobile Data & 4G & 1-3 & Yes & Mobile & Moderate\\\\\n",
       "\t Girl & 16-20 & College    & Government     & No & Yes & Low  & Mid  & Wifi        & 4G & 1-3 & No  & Mobile & Moderate\\\\\n",
       "\t Girl & 11-15 & School     & Non Government & No & Yes & Low  & Mid  & Mobile Data & 4G & 1-3 & No  & Mobile & Moderate\\\\\n",
       "\t Girl & 16-20 & School     & Non Government & No & Yes & Low  & Poor & Mobile Data & 3G & 0   & No  & Mobile & Low     \\\\\n",
       "\t Boy  & 11-15 & School     & Non Government & No & Yes & Low  & Poor & Mobile Data & 3G & 1-3 & No  & Mobile & Low     \\\\\n",
       "\\end{tabular}\n"
      ],
      "text/markdown": [
       "\n",
       "A tibble: 6 × 14\n",
       "\n",
       "| Gender &lt;chr&gt; | Age &lt;chr&gt; | Education Level &lt;chr&gt; | Institution Type &lt;chr&gt; | IT Student &lt;chr&gt; | Location &lt;chr&gt; | Load-shedding &lt;chr&gt; | Financial Condition &lt;chr&gt; | Internet Type &lt;chr&gt; | Network Type &lt;chr&gt; | Class Duration &lt;chr&gt; | Self Lms &lt;chr&gt; | Device &lt;chr&gt; | Adaptivity Level &lt;chr&gt; |\n",
       "|---|---|---|---|---|---|---|---|---|---|---|---|---|---|\n",
       "| Boy  | 21-25 | University | Non Government | No | Yes | Low  | Mid  | Wifi        | 4G | 3-6 | No  | Tab    | Moderate |\n",
       "| Girl | 21-25 | University | Non Government | No | Yes | High | Mid  | Mobile Data | 4G | 1-3 | Yes | Mobile | Moderate |\n",
       "| Girl | 16-20 | College    | Government     | No | Yes | Low  | Mid  | Wifi        | 4G | 1-3 | No  | Mobile | Moderate |\n",
       "| Girl | 11-15 | School     | Non Government | No | Yes | Low  | Mid  | Mobile Data | 4G | 1-3 | No  | Mobile | Moderate |\n",
       "| Girl | 16-20 | School     | Non Government | No | Yes | Low  | Poor | Mobile Data | 3G | 0   | No  | Mobile | Low      |\n",
       "| Boy  | 11-15 | School     | Non Government | No | Yes | Low  | Poor | Mobile Data | 3G | 1-3 | No  | Mobile | Low      |\n",
       "\n"
      ],
      "text/plain": [
       "  Gender Age   Education Level Institution Type IT Student Location\n",
       "1 Boy    21-25 University      Non Government   No         Yes     \n",
       "2 Girl   21-25 University      Non Government   No         Yes     \n",
       "3 Girl   16-20 College         Government       No         Yes     \n",
       "4 Girl   11-15 School          Non Government   No         Yes     \n",
       "5 Girl   16-20 School          Non Government   No         Yes     \n",
       "6 Boy    11-15 School          Non Government   No         Yes     \n",
       "  Load-shedding Financial Condition Internet Type Network Type Class Duration\n",
       "1 Low           Mid                 Wifi          4G           3-6           \n",
       "2 High          Mid                 Mobile Data   4G           1-3           \n",
       "3 Low           Mid                 Wifi          4G           1-3           \n",
       "4 Low           Mid                 Mobile Data   4G           1-3           \n",
       "5 Low           Poor                Mobile Data   3G           0             \n",
       "6 Low           Poor                Mobile Data   3G           1-3           \n",
       "  Self Lms Device Adaptivity Level\n",
       "1 No       Tab    Moderate        \n",
       "2 Yes      Mobile Moderate        \n",
       "3 No       Mobile Moderate        \n",
       "4 No       Mobile Moderate        \n",
       "5 No       Mobile Low             \n",
       "6 No       Mobile Low             "
      ]
     },
     "metadata": {},
     "output_type": "display_data"
    }
   ],
   "source": [
    "\n",
    "url <- \"https://raw.githubusercontent.com/Sai-VSA/StudentFlexibilityIndependence/main/students_adaptability_level_online_education.csv?token=GHSAT0AAAAAABUFIT6Q5OJQWQEL5GBZRD6KYW2FB2Q\"\n",
    "Student_Adaptability <- read_csv(url)   \n",
    "head(Student_Adaptability)"
   ]
  },
  {
   "cell_type": "code",
   "execution_count": 40,
   "id": "5dcf6dd3-dea5-446e-918e-0e04079c0c3a",
   "metadata": {},
   "outputs": [],
   "source": [
    "Student_Adaptability <- \n",
    "    Student_Adaptability %>% \n",
    "    filter(!is.na(`Institution Type`) | !is.na(`Adaptivity Level`)) %>%\n",
    "    select(`Institution Type`, `Adaptivity Level`)\n",
    "    \n",
    "#head(Student_Adaptability)"
   ]
  },
  {
   "cell_type": "code",
   "execution_count": 60,
   "id": "a8e7df64-5347-4976-8418-f52cb744dc30",
   "metadata": {},
   "outputs": [
    {
     "data": {
      "text/html": [
       "<table class=\"dataframe\">\n",
       "<caption>A tibble: 6 × 3</caption>\n",
       "<thead>\n",
       "\t<tr><th scope=col>Institution Type</th><th scope=col>prop_type</th><th scope=col>prop</th></tr>\n",
       "\t<tr><th scope=col>&lt;chr&gt;</th><th scope=col>&lt;chr&gt;</th><th scope=col>&lt;dbl&gt;</th></tr>\n",
       "</thead>\n",
       "<tbody>\n",
       "\t<tr><td>Government    </td><td>low_prop </td><td>0.61256545</td></tr>\n",
       "\t<tr><td>Government    </td><td>mid_prop </td><td>0.33507853</td></tr>\n",
       "\t<tr><td>Government    </td><td>high_prop</td><td>0.05235602</td></tr>\n",
       "\t<tr><td>Non Government</td><td>low_prop </td><td>0.29890644</td></tr>\n",
       "\t<tr><td>Non Government</td><td>mid_prop </td><td>0.60388821</td></tr>\n",
       "\t<tr><td>Non Government</td><td>high_prop</td><td>0.09720535</td></tr>\n",
       "</tbody>\n",
       "</table>\n"
      ],
      "text/latex": [
       "A tibble: 6 × 3\n",
       "\\begin{tabular}{lll}\n",
       " Institution Type & prop\\_type & prop\\\\\n",
       " <chr> & <chr> & <dbl>\\\\\n",
       "\\hline\n",
       "\t Government     & low\\_prop  & 0.61256545\\\\\n",
       "\t Government     & mid\\_prop  & 0.33507853\\\\\n",
       "\t Government     & high\\_prop & 0.05235602\\\\\n",
       "\t Non Government & low\\_prop  & 0.29890644\\\\\n",
       "\t Non Government & mid\\_prop  & 0.60388821\\\\\n",
       "\t Non Government & high\\_prop & 0.09720535\\\\\n",
       "\\end{tabular}\n"
      ],
      "text/markdown": [
       "\n",
       "A tibble: 6 × 3\n",
       "\n",
       "| Institution Type &lt;chr&gt; | prop_type &lt;chr&gt; | prop &lt;dbl&gt; |\n",
       "|---|---|---|\n",
       "| Government     | low_prop  | 0.61256545 |\n",
       "| Government     | mid_prop  | 0.33507853 |\n",
       "| Government     | high_prop | 0.05235602 |\n",
       "| Non Government | low_prop  | 0.29890644 |\n",
       "| Non Government | mid_prop  | 0.60388821 |\n",
       "| Non Government | high_prop | 0.09720535 |\n",
       "\n"
      ],
      "text/plain": [
       "  Institution Type prop_type prop      \n",
       "1 Government       low_prop  0.61256545\n",
       "2 Government       mid_prop  0.33507853\n",
       "3 Government       high_prop 0.05235602\n",
       "4 Non Government   low_prop  0.29890644\n",
       "5 Non Government   mid_prop  0.60388821\n",
       "6 Non Government   high_prop 0.09720535"
      ]
     },
     "metadata": {},
     "output_type": "display_data"
    }
   ],
   "source": [
    "\n",
    "Student_Adaptability_Summary <- \n",
    "    Student_Adaptability %>%\n",
    "    group_by(`Institution Type`) %>%\n",
    "    summarize(Low = sum(`Adaptivity Level` == \"Low\"), Moderate =sum(`Adaptivity Level` == \"Moderate\"), High = sum(`Adaptivity Level` == \"High\"), Total = n()) %>%\n",
    "    mutate(low_prop = Low/Total, mid_prop = Moderate/Total, high_prop = High/Total) %>%\n",
    "    pivot_longer(cols = low_prop:high_prop,\n",
    "  names_to = \"prop_type\",\n",
    "  values_to = \"prop\"\n",
    ") %>%\n",
    "select(`Institution Type`, prop_type, prop)\n",
    "\n",
    "              \n",
    "\n",
    "head(Student_Adaptability_Summary)        "
   ]
  },
  {
   "cell_type": "code",
   "execution_count": 69,
   "id": "1a2888c7-36c6-46dc-82d6-5b34cca17a02",
   "metadata": {},
   "outputs": [
    {
     "data": {
      "image/png": "[encoded data removed]",
      "text/plain": [
       "plot without title"
      ]
     },
     "metadata": {
      "image/png": {
       "height": 420,
       "width": 420
      }
     },
     "output_type": "display_data"
    }
   ],
   "source": [
    "Student_Adaptability_Dist <- Student_Adaptability %>% \n",
    "       ggplot(aes(x = `Institution Type`, fill = `Adaptivity Level`)) + \n",
    "       geom_bar(alpha = 0.5, position = \"identity\") \n",
    "\n",
    "Student_Adaptability_Dist_Prop <- Student_Adaptability_Summary %>%\n",
    "       ggplot(aes(x = `Institution Type`, y = prop, fill = prop_type)) + \n",
    "       geom_col(colour = \"black\", position = \"fill\") +\n",
    "  scale_y_continuous(labels = scales::percent) +\n",
    "  scale_fill_brewer(palette = \"Pastel1\")\n",
    "\n",
    "\n",
    "Student_Adaptability_Dist\n",
    "Student_Adaptability_Dist_Prop"
   ]
  },
  {
   "cell_type": "code",
   "execution_count": null,
   "id": "5fcadf6d-de85-447f-b7fe-0c92789f2049",
   "metadata": {},
   "outputs": [],
   "source": []
  },
  {
   "cell_type": "raw",
   "id": "8fa810a2-6437-4c6d-94ca-ad96b398a870",
   "metadata": {},
   "source": []
  },
  {
   "cell_type": "code",
   "execution_count": null,
   "id": "114629d9-3d68-4747-94e1-be39e5c96114",
   "metadata": {},
   "outputs": [],
   "source": []
  },
  {
   "cell_type": "code",
   "execution_count": null,
   "id": "5a5c1714-480b-4cce-9fd8-d57d0fc70c43",
   "metadata": {},
   "outputs": [],
   "source": []
  }
 ],
 "metadata": {
  "kernelspec": {
   "display_name": "R",
   "language": "R",
   "name": "ir"
  },
  "language_info": {
   "codemirror_mode": "r",
   "file_extension": ".r",
   "mimetype": "text/x-r-source",
   "name": "R",
   "pygments_lexer": "r",
   "version": "4.0.5"
  }
 },
 "nbformat": 4,
 "nbformat_minor": 5
}
